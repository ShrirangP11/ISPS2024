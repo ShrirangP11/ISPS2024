{
 "cells": [
  {
   "cell_type": "code",
   "execution_count": 1,
   "metadata": {},
   "outputs": [],
   "source": [
    "import xarray as xr\n",
    "import numpy as np\n",
    "import pandas as pd\n",
    "from matplotlib import pyplot as plt\n",
    "from datetime import date as date"
   ]
  },
  {
   "cell_type": "code",
   "execution_count": 27,
   "metadata": {},
   "outputs": [],
   "source": [
    "meta = pd.read_csv('C:/Users/ShrirangP/Downloads/city_lat_long.csv',index_col='City')"
   ]
  },
  {
   "cell_type": "code",
   "execution_count": 28,
   "metadata": {},
   "outputs": [
    {
     "data": {
      "text/html": [
       "<div>\n",
       "<style scoped>\n",
       "    .dataframe tbody tr th:only-of-type {\n",
       "        vertical-align: middle;\n",
       "    }\n",
       "\n",
       "    .dataframe tbody tr th {\n",
       "        vertical-align: top;\n",
       "    }\n",
       "\n",
       "    .dataframe thead th {\n",
       "        text-align: right;\n",
       "    }\n",
       "</style>\n",
       "<table border=\"1\" class=\"dataframe\">\n",
       "  <thead>\n",
       "    <tr style=\"text-align: right;\">\n",
       "      <th></th>\n",
       "      <th>Latitude</th>\n",
       "      <th>Longitude</th>\n",
       "    </tr>\n",
       "    <tr>\n",
       "      <th>City</th>\n",
       "      <th></th>\n",
       "      <th></th>\n",
       "    </tr>\n",
       "  </thead>\n",
       "  <tbody>\n",
       "    <tr>\n",
       "      <th>Mumbai</th>\n",
       "      <td>19.0760</td>\n",
       "      <td>72.8777</td>\n",
       "    </tr>\n",
       "    <tr>\n",
       "      <th>Delhi</th>\n",
       "      <td>28.7041</td>\n",
       "      <td>77.1025</td>\n",
       "    </tr>\n",
       "    <tr>\n",
       "      <th>Bengaluru</th>\n",
       "      <td>12.9716</td>\n",
       "      <td>77.5946</td>\n",
       "    </tr>\n",
       "    <tr>\n",
       "      <th>Kolkata</th>\n",
       "      <td>22.5726</td>\n",
       "      <td>88.3639</td>\n",
       "    </tr>\n",
       "    <tr>\n",
       "      <th>Chennai</th>\n",
       "      <td>13.0827</td>\n",
       "      <td>80.2707</td>\n",
       "    </tr>\n",
       "  </tbody>\n",
       "</table>\n",
       "</div>"
      ],
      "text/plain": [
       "           Latitude  Longitude\n",
       "City                          \n",
       "Mumbai      19.0760    72.8777\n",
       "Delhi       28.7041    77.1025\n",
       "Bengaluru   12.9716    77.5946\n",
       "Kolkata     22.5726    88.3639\n",
       "Chennai     13.0827    80.2707"
      ]
     },
     "execution_count": 28,
     "metadata": {},
     "output_type": "execute_result"
    }
   ],
   "source": [
    "meta.head()"
   ]
  },
  {
   "cell_type": "code",
   "execution_count": 35,
   "metadata": {},
   "outputs": [],
   "source": [
    "cities = list(meta.index.values)"
   ]
  },
  {
   "cell_type": "code",
   "execution_count": null,
   "metadata": {},
   "outputs": [],
   "source": []
  },
  {
   "cell_type": "code",
   "execution_count": null,
   "metadata": {},
   "outputs": [],
   "source": [
    "#Extracting daily rainfall values of top 50 most dense cities in India\n",
    "for city in cities:\n",
    "    daily_rainfall = np.array([])\n",
    "    lat = meta.loc[[f'{city}'],['Latitude']]\n",
    "    lon = meta.loc[[f'{city}'],['Longitude']]\n",
    "    for year in range(1951,2024):\n",
    "        dataset = xr.open_dataset(f\"C:/Users/ShrirangP/Downloads/Rainfall_IMD_025_NETCDF_1951-2023/RF25_ind{year}_rfp25.nc\")\n",
    "        city = dataset.sel(LATITUDE=lat, LONGITUDE=long, method='nearest')\n",
    "        #daily_rainfall = np.append(daily_rainfall, (pune['RAINFALL'].to_series()).dropna())\n",
    "        dates = pd.date_range(start=f\"{year}-01-01\",end=f\"{year}-12-31\")\n",
    "        for date in dates:\n",
    "            val = city['RAINFALL'].sel(TIME=date)\n",
    "            daily_rainfall = np.append(daily_rainfall, val)\n",
    "        daily_rainfall.tofile('C:/User/ShrirangP/Desktop/city/f{city}.csv',sep=',')"
   ]
  },
  {
   "cell_type": "code",
   "execution_count": 50,
   "metadata": {},
   "outputs": [],
   "source": [
    "daily_rainfall = np.array([])\n",
    "for year in range(1951,2024):\n",
    "        dataset = xr.open_dataset(f\"C:/Users/ShrirangP/Downloads/Rainfall_IMD_025_NETCDF_1951-2023/RF25_ind{year}_rfp25.nc\")\n",
    "        city = dataset.sel(LATITUDE=18.52, LONGITUDE=73.87, method='nearest')\n",
    "        daily_rainfall = np.append(daily_rainfall, city['RAINFALL'].to_series())\n"
   ]
  },
  {
   "cell_type": "code",
   "execution_count": 57,
   "metadata": {},
   "outputs": [],
   "source": [
    "daily_rainfall2 = np.array([])\n",
    "for year in range(1951,2024):\n",
    "        dataset = xr.open_dataset(f\"C:/Users/ShrirangP/Downloads/Rainfall_IMD_025_NETCDF_1951-2023/RF25_ind{year}_rfp25.nc\")\n",
    "        city = dataset.sel(LATITUDE=18.5, LONGITUDE=73.5, method='nearest')\n",
    "        daily_rainfall2 = np.append(daily_rainfall2, city['RAINFALL'].to_series())\n"
   ]
  },
  {
   "cell_type": "code",
   "execution_count": 58,
   "metadata": {},
   "outputs": [
    {
     "data": {
      "text/plain": [
       "26663"
      ]
     },
     "execution_count": 58,
     "metadata": {},
     "output_type": "execute_result"
    }
   ],
   "source": [
    "len(daily_rainfall2)"
   ]
  },
  {
   "cell_type": "code",
   "execution_count": 52,
   "metadata": {},
   "outputs": [
    {
     "data": {
      "image/png": "[encoded data removed]",
      "text/plain": [
       "<Figure size 432x288 with 1 Axes>"
      ]
     },
     "metadata": {
      "needs_background": "light"
     },
     "output_type": "display_data"
    }
   ],
   "source": [
    "plt.plot(np.arange(0,26663),daily_rainfall)\n",
    "plt.show()"
   ]
  },
  {
   "cell_type": "code",
   "execution_count": 59,
   "metadata": {},
   "outputs": [
    {
     "data": {
      "image/png": "[encoded data removed]",
      "text/plain": [
       "<Figure size 432x288 with 1 Axes>"
      ]
     },
     "metadata": {
      "needs_background": "light"
     },
     "output_type": "display_data"
    }
   ],
   "source": [
    "plt.plot(np.arange(0,26663),daily_rainfall2)\n",
    "plt.show()"
   ]
  }
 ],
 "metadata": {
  "kernelspec": {
   "display_name": "Python 3",
   "language": "python",
   "name": "python3"
  },
  "language_info": {
   "codemirror_mode": {
    "name": "ipython",
    "version": 3
   },
   "file_extension": ".py",
   "mimetype": "text/x-python",
   "name": "python",
   "nbconvert_exporter": "python",
   "pygments_lexer": "ipython3",
   "version": "3.8.3"
  }
 },
 "nbformat": 4,
 "nbformat_minor": 4
}
